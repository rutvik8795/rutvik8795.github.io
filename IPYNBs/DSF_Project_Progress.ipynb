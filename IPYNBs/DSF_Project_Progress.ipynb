{
  "nbformat": 4,
  "nbformat_minor": 0,
  "metadata": {
    "colab": {
      "name": "DSF_Project_Progress.ipynb",
      "provenance": []
    },
    "kernelspec": {
      "name": "python3",
      "display_name": "Python 3"
    }
  },
  "cells": [
    {
      "cell_type": "code",
      "metadata": {
        "id": "1bonb5KlQiTm",
        "colab_type": "code",
        "colab": {}
      },
      "source": [
        "#combine all files in the list\n",
        "combined_csv = pd.concat([pd.read_csv(f) for f in all_filenames ])\n",
        "#export to csv\n",
        "combined_csv.to_csv( \"combined_csv.csv\", index=False, encoding='utf-8-sig')"
      ],
      "execution_count": 0,
      "outputs": []
    },
    {
      "cell_type": "markdown",
      "metadata": {
        "id": "uljX8fS2UVXy",
        "colab_type": "text"
      },
      "source": [
        ""
      ]
    },
    {
      "cell_type": "code",
      "metadata": {
        "id": "sHdHPYXRUXbx",
        "colab_type": "code",
        "colab": {}
      },
      "source": [
        "import os\n",
        "\n",
        "directory = os.path.join(\"c:\\\\\",\"C:\\Fall2019\\DSF\\Project\\Florida\\Voter_Registration_20190910\\20190910_VoterDetail\")\n",
        "for root,dirs,files in os.walk(directory):\n",
        "    for file in files:\n",
        "       if file.endswith(\".txt\"):\n",
        "           f=open(file, 'r')\n",
        "            \n",
        "           f.close()"
      ],
      "execution_count": 0,
      "outputs": []
    }
  ]
}