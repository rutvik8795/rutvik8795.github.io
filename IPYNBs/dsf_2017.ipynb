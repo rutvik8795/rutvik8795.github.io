{
  "nbformat": 4,
  "nbformat_minor": 0,
  "metadata": {
    "colab": {
      "name": "dsf_2017.ipynb",
      "provenance": []
    },
    "kernelspec": {
      "name": "python3",
      "display_name": "Python 3"
    },
    "accelerator": "GPU"
  },
  "cells": [
    {
      "cell_type": "code",
      "metadata": {
        "id": "hCXKlupJH37A",
        "colab_type": "code",
        "outputId": "3bc7caaa-fd71-487c-8be4-ffc95f344b2f",
        "colab": {
          "base_uri": "https://localhost:8080/",
          "height": 540
        }
      },
      "source": [
        "import pandas as pd\n",
        "import pdb\n",
        "import os\n",
        "from google.colab import drive\n",
        "\n",
        "from datetime import datetime\n",
        "drive.mount('/content/drive')\n",
        "\n",
        "\n",
        "#Read all files and merge into 1 ( All counties)\n",
        "\n",
        "dataframes = []\n",
        "\n",
        "counter = 0\n",
        "total = len(os.listdir('/content/drive/My Drive/20170630/Voter_Detail/')) \n",
        "for filename in os.listdir('/content/drive/My Drive/20170630/Voter_Detail/'):\n",
        "    if counter%10 == 0 :\n",
        "      print(\"Processed {} of {} files\".format(counter,total))\n",
        "      print('\\n')\n",
        "    \n",
        "    counter += 1\n",
        "    if filename.endswith(\".txt\") or filename.endswith(\".py\"): \n",
        "        data = pd.read_csv('/content/drive/My Drive/20170630/Voter_Detail/'+filename, sep=\"\\t\", header=None,low_memory=False)\n",
        "        \n",
        "        data.columns = [\"County Code\",\"Voter ID\",\"Name Last\",\"Name Suffix\",\"Name First\",\"Name Middle\",\"Requested public records exemption\",\"Residence Address Line 1\",\"Residence Address Line 2\",\"Residence City (USPS)\",\"Residence State\",\"Residence Zipcode\",\"Mailing Address Line 1\",\"Mailing Address Line 2\",\"Mailing Address Line 3\",\"Mailing City\",\"Mailing State\",\"Mailing Zipcode\t\",\"Mailing Country\",\"Gender\",\"Race\",\"Birth Date\",\"Registration Date\",\"Party Affiliation\",\"Precinct\",\"Precinct Group\",\"Precinct Split\",\"Precinct Suffix\",\"Voter Status\",\"Congressional District\",\"House District\",\"Senate District\",\"County Commission District\",\"School Board District\",\"Daytime Area Code\",\"Daytime Phone Number\",\"Daytime Phone Extension\",\"Email address\"]\n",
        "\n",
        "        data =  data.loc[:,[\"Name Last\",\"Name First\",\"Name Middle\",\"Residence Address Line 1\",\"Residence Address Line 2\",\"Residence City (USPS)\",\"Residence State\",\"Residence Zipcode\",\"Gender\",\"Race\",\"Birth Date\",\"Registration Date\",\"Party Affiliation\"]]\n",
        "        \n",
        "        data = data.dropna(subset=[\"Name Last\",\"Birth Date\",\"Name First\",\"Residence Address Line 1\",\"Residence Address Line 2\",\"Gender\",\"Party Affiliation\"])\n",
        "        \n",
        "        dataframes.append(data)\n",
        "\n",
        "print(\"Processed {} of {} files\".format(counter,total))\n",
        "print('\\n')\n",
        "\n",
        "new_dataframe = pd.DataFrame()\n",
        "temp_dataframe = pd.DataFrame()\n",
        "\n",
        "#for i,df in enumerate(dataframes) :\n",
        "temp_dataframe = pd.concat(dataframes)\n",
        "temp_dataframe = temp_dataframe[temp_dataframe['Party Affiliation'].isin(['DEM', 'REP'])]\n",
        "#print(temp_dataframe)\n",
        "\n",
        "#pdb.set_trace()\n",
        "\n",
        "#Add columns\n",
        "\n",
        "\n",
        "\n",
        "\n",
        "#Filter out irrelevant columns\n",
        "\n",
        "\n",
        "#Identify couples\n"
      ],
      "execution_count": 0,
      "outputs": [
        {
          "output_type": "stream",
          "text": [
            "Go to this URL in a browser: https://accounts.google.com/o/oauth2/auth?client_id=947318989803-6bn6qk8qdgf4n4g3pfee6491hc0brc4i.apps.googleusercontent.com&redirect_uri=urn%3Aietf%3Awg%3Aoauth%3A2.0%3Aoob&scope=email%20https%3A%2F%2Fwww.googleapis.com%2Fauth%2Fdocs.test%20https%3A%2F%2Fwww.googleapis.com%2Fauth%2Fdrive%20https%3A%2F%2Fwww.googleapis.com%2Fauth%2Fdrive.photos.readonly%20https%3A%2F%2Fwww.googleapis.com%2Fauth%2Fpeopleapi.readonly&response_type=code\n",
            "\n",
            "Enter your authorization code:\n",
            "··········\n",
            "Mounted at /content/drive\n",
            "Processed 0 of 67 files\n",
            "\n",
            "\n",
            "Processed 10 of 67 files\n",
            "\n",
            "\n",
            "Processed 20 of 67 files\n",
            "\n",
            "\n",
            "Processed 30 of 67 files\n",
            "\n",
            "\n",
            "Processed 40 of 67 files\n",
            "\n",
            "\n",
            "Processed 50 of 67 files\n",
            "\n",
            "\n",
            "Processed 60 of 67 files\n",
            "\n",
            "\n",
            "Processed 67 of 67 files\n",
            "\n",
            "\n"
          ],
          "name": "stdout"
        }
      ]
    },
    {
      "cell_type": "code",
      "metadata": {
        "id": "WgAnj-S0NTSo",
        "colab_type": "code",
        "outputId": "29fb6f79-d029-4202-aa97-4560702ec15a",
        "colab": {
          "base_uri": "https://localhost:8080/",
          "height": 329
        }
      },
      "source": [
        "#print (temp_dataframe.head(5))\n",
        "pd.options.display.max_columns = None\n",
        "#temp=temp_dataframe.sample(n=20000)\n",
        "temp2 = temp_dataframe\n",
        "#temp2=temp_dataframe\n",
        "#print(temp.head(5))\n",
        "#print(temp['Residence Address Line 2'].head(5))\n",
        "temp2['All'] = temp2['Residence Address Line 1'].str.cat(temp2[['Residence Address Line 2']], sep=' - ')\n",
        "#print(temp['All'].head(5))\n",
        "df=temp2.groupby('All')\n",
        "data=pd.DataFrame()\n",
        "\n",
        "df1 = pd.DataFrame()\n",
        "df2 = pd.DataFrame()\n",
        "\n",
        "counter = 0\n",
        "print(temp2.shape)\n",
        "for name,group in df:\n",
        "\n",
        "    if counter%30000 == 0 :\n",
        "      print(\"Processed {} of items\".format(counter) )\n",
        "    counter += 1\n",
        "\n",
        "    if group.shape[0]==2 and group[group.Gender == 'F'].shape[0] == 1 and group[group.Gender == 'M'].shape[0] == 1:\n",
        "        group_name=group.groupby('Name Last')\n",
        "        for name1,group1 in group_name:\n",
        "            if group1.shape[0]==2:\n",
        "                #print(name1)\n",
        "                #print(group1)\n",
        "                data=data.append([group])\n",
        "                #pdb.set_trace()\n",
        "                if (group1.iloc[0,12] == group1.iloc[1,12]) :\n",
        "                  df1 = df1.append(group)\n",
        "                else :\n",
        "                  df2 = df2.append(group)\n",
        "\n",
        "print(\"Processed {} of {} items\".format(counter) )\n",
        "print('Processing Complete')\n",
        "\n"
      ],
      "execution_count": 0,
      "outputs": [
        {
          "output_type": "stream",
          "text": [
            "(9791606, 14)\n",
            "Processed 0 of items\n",
            "Processed 30000 of items\n",
            "Processed 60000 of items\n",
            "Processed 90000 of items\n",
            "Processed 120000 of items\n",
            "Processed 150000 of items\n",
            "Processed 180000 of items\n",
            "Processed 210000 of items\n",
            "Processed 240000 of items\n",
            "Processed 270000 of items\n",
            "Processed 300000 of items\n",
            "Processed 330000 of items\n",
            "Processed 360000 of items\n",
            "Processed 390000 of items\n",
            "Processed 420000 of items\n",
            "Processed 450000 of items\n",
            "Processed 480000 of items\n"
          ],
          "name": "stdout"
        }
      ]
    },
    {
      "cell_type": "code",
      "metadata": {
        "id": "1nN65eNIOMb4",
        "colab_type": "code",
        "outputId": "9dc3aebc-b16e-4e53-a881-f6a42c034957",
        "colab": {
          "base_uri": "https://localhost:8080/",
          "height": 166
        }
      },
      "source": [
        "print(data.shape)"
      ],
      "execution_count": 0,
      "outputs": [
        {
          "output_type": "error",
          "ename": "NameError",
          "evalue": "ignored",
          "traceback": [
            "\u001b[0;31m---------------------------------------------------------------------------\u001b[0m",
            "\u001b[0;31mNameError\u001b[0m                                 Traceback (most recent call last)",
            "\u001b[0;32m<ipython-input-1-25a56bb3f532>\u001b[0m in \u001b[0;36m<module>\u001b[0;34m()\u001b[0m\n\u001b[0;32m----> 1\u001b[0;31m \u001b[0mprint\u001b[0m\u001b[0;34m(\u001b[0m\u001b[0mdata\u001b[0m\u001b[0;34m.\u001b[0m\u001b[0mshape\u001b[0m\u001b[0;34m)\u001b[0m\u001b[0;34m\u001b[0m\u001b[0;34m\u001b[0m\u001b[0m\n\u001b[0m",
            "\u001b[0;31mNameError\u001b[0m: name 'data' is not defined"
          ]
        }
      ]
    }
  ]
}