{
  "nbformat": 4,
  "nbformat_minor": 0,
  "metadata": {
    "colab": {
      "name": "DSF_Progress.ipynb",
      "provenance": []
    },
    "kernelspec": {
      "name": "python3",
      "display_name": "Python 3"
    }
  },
  "cells": [
    {
      "cell_type": "code",
      "metadata": {
        "colab_type": "code",
        "outputId": "5e400134-2781-43b9-cc8a-6cafbcfb0e31",
        "id": "n5cFvUN0CZDu",
        "colab": {
          "base_uri": "https://localhost:8080/",
          "height": 451
        }
      },
      "source": [
        "import pandas as pd\n",
        "import pdb\n",
        "import os\n",
        "from google.colab import drive\n",
        "\n",
        "from datetime import datetime\n",
        "drive.mount('/content/drive')\n",
        "\n",
        "\n",
        "#Read all files and merge into 1 ( All counties)\n",
        "\n",
        "dataframes = []\n",
        "\n",
        "counter = 0\n",
        "total = len(os.listdir('/content/drive/My Drive/20160930')) \n",
        "for filename in os.listdir('/content/drive/My Drive/20160930'):\n",
        "    if counter%10 == 0 :\n",
        "      print(\"Processed {} of {} files\".format(counter,total))\n",
        "      print('\\n')\n",
        "    \n",
        "    counter += 1\n",
        "    if filename.endswith(\".txt\") or filename.endswith(\".py\"): \n",
        "        data = pd.read_csv('/content/drive/My Drive/20160930/'+filename, sep=\"\\t\", header=None,low_memory=False)\n",
        "        \n",
        "        data.columns = [\"County Code\",\"Voter ID\",\"Name Last\",\"Name Suffix\",\"Name First\",\"Name Middle\",\"Requested public records exemption\",\"Residence Address Line 1\",\"Residence Address Line 2\",\"Residence City (USPS)\",\"Residence State\",\"Residence Zipcode\",\"Mailing Address Line 1\",\"Mailing Address Line 2\",\"Mailing Address Line 3\",\"Mailing City\",\"Mailing State\",\"Mailing Zipcode\t\",\"Mailing Country\",\"Gender\",\"Race\",\"Birth Date\",\"Registration Date\",\"Party Affiliation\",\"Precinct\",\"Precinct Group\",\"Precinct Split\",\"Precinct Suffix\",\"Voter Status\",\"Congressional District\",\"House District\",\"Senate District\",\"County Commission District\",\"School Board District\",\"Daytime Area Code\",\"Daytime Phone Number\",\"Daytime Phone Extension\",\"Email address\"]\n",
        "\n",
        "        data =  data.loc[:,[\"Name Last\",\"Name First\",\"Name Middle\",\"Residence Address Line 1\",\"Residence Address Line 2\",\"Residence City (USPS)\",\"Residence State\",\"Residence Zipcode\",\"Gender\",\"Race\",\"Birth Date\",\"Registration Date\",\"Party Affiliation\"]]\n",
        "        \n",
        "        data = data.dropna(subset=[\"Name Last\",\"Birth Date\",\"Name First\",\"Residence Address Line 1\",\"Residence Address Line 2\",\"Gender\",\"Party Affiliation\"])\n",
        "        \n",
        "        dataframes.append(data)\n",
        "\n",
        "print(\"Processed {} of {} files\".format(counter,total))\n",
        "print('\\n')\n",
        "\n",
        "new_dataframe = pd.DataFrame()\n",
        "temp_dataframe = pd.DataFrame()\n",
        "\n",
        "#for i,df in enumerate(dataframes) :\n",
        "temp_dataframe = pd.concat(dataframes)\n",
        "temp_dataframe = temp_dataframe[temp_dataframe['Party Affiliation'].isin(['DEM', 'REP'])]\n",
        "#print(temp_dataframe)\n",
        "\n",
        "#pdb.set_trace()\n",
        "\n",
        "#Add columns\n",
        "\n",
        "\n",
        "\n",
        "\n",
        "#Filter out irrelevant columns\n",
        "\n",
        "\n",
        "#Identify couples\n"
      ],
      "execution_count": 0,
      "outputs": [
        {
          "output_type": "stream",
          "text": [
            "Drive already mounted at /content/drive; to attempt to forcibly remount, call drive.mount(\"/content/drive\", force_remount=True).\n",
            "Processed 0 of 67 files\n",
            "\n",
            "\n",
            "Processed 10 of 67 files\n",
            "\n",
            "\n",
            "Processed 20 of 67 files\n",
            "\n",
            "\n",
            "Processed 30 of 67 files\n",
            "\n",
            "\n",
            "Processed 40 of 67 files\n",
            "\n",
            "\n",
            "Processed 50 of 67 files\n",
            "\n",
            "\n",
            "Processed 60 of 67 files\n",
            "\n",
            "\n",
            "Processed 67 of 67 files\n",
            "\n",
            "\n"
          ],
          "name": "stdout"
        }
      ]
    },
    {
      "cell_type": "code",
      "metadata": {
        "id": "N8V7vBcsFs3L",
        "colab_type": "code",
        "outputId": "ca370a50-4388-44ab-c0c9-f18c2d556d90",
        "colab": {
          "base_uri": "https://localhost:8080/",
          "height": 260
        }
      },
      "source": [
        "#print (temp_dataframe.head(5))\n",
        "pd.options.display.max_columns = None\n",
        "#temp=temp_dataframe.sample(n=20000)\n",
        "temp2 = temp_dataframe\n",
        "#temp2=temp_dataframe\n",
        "#print(temp.head(5))\n",
        "#print(temp['Residence Address Line 2'].head(5))\n",
        "temp2['All'] = temp2['Residence Address Line 1'].str.cat(temp2[['Residence Address Line 2']], sep=' - ')\n",
        "#print(temp['All'].head(5))\n",
        "df=temp2.groupby('All')\n",
        "data=pd.DataFrame()\n",
        "\n",
        "df1 = pd.DataFrame()\n",
        "df2 = pd.DataFrame()\n",
        "\n",
        "counter = 0\n",
        "print(temp2.shape)\n",
        "for name,group in df:\n",
        "\n",
        "    if counter%30000 == 0 :\n",
        "      print(\"Processed {} of items\".format(counter) )\n",
        "    counter += 1\n",
        "\n",
        "    if group.shape[0]==2 and group[group.Gender == 'F'].shape[0] == 1 and group[group.Gender == 'M'].shape[0] == 1:\n",
        "        group_name=group.groupby('Name Last')\n",
        "        for name1,group1 in group_name:\n",
        "            if group1.shape[0]==2:\n",
        "                #print(name1)\n",
        "                #print(group1)\n",
        "                data=data.append([group])\n",
        "                #pdb.set_trace()\n",
        "                if (group1.iloc[0,12] == group1.iloc[1,12]) :\n",
        "                  df1 = df1.append(group)\n",
        "                else :\n",
        "                  df2 = df2.append(group)\n",
        "\n",
        "print(\"Processed {} of {} items\".format(counter) )\n",
        "print('Processing Complete')\n",
        "\n"
      ],
      "execution_count": 0,
      "outputs": [
        {
          "output_type": "stream",
          "text": [
            "(5519029, 14)\n",
            "Processed 0 of items\n",
            "Processed 30000 of items\n",
            "Processed 60000 of items\n",
            "Processed 90000 of items\n",
            "Processed 120000 of items\n",
            "Processed 150000 of items\n",
            "Processed 180000 of items\n",
            "Processed 210000 of items\n",
            "Processed 240000 of items\n",
            "Processed 270000 of items\n",
            "Processed 300000 of items\n",
            "Processed 330000 of items\n",
            "Processed 360000 of items\n"
          ],
          "name": "stdout"
        }
      ]
    },
    {
      "cell_type": "code",
      "metadata": {
        "id": "qI1k3MajOUVV",
        "colab_type": "code",
        "outputId": "8fe6ef2e-e772-4b34-9a3d-156ffb56c3b8",
        "colab": {
          "base_uri": "https://localhost:8080/",
          "height": 166
        }
      },
      "source": [
        "print(data.shape)"
      ],
      "execution_count": 0,
      "outputs": [
        {
          "output_type": "error",
          "ename": "NameError",
          "evalue": "ignored",
          "traceback": [
            "\u001b[0;31m---------------------------------------------------------------------------\u001b[0m",
            "\u001b[0;31mNameError\u001b[0m                                 Traceback (most recent call last)",
            "\u001b[0;32m<ipython-input-2-25a56bb3f532>\u001b[0m in \u001b[0;36m<module>\u001b[0;34m()\u001b[0m\n\u001b[0;32m----> 1\u001b[0;31m \u001b[0mprint\u001b[0m\u001b[0;34m(\u001b[0m\u001b[0mdata\u001b[0m\u001b[0;34m.\u001b[0m\u001b[0mshape\u001b[0m\u001b[0;34m)\u001b[0m\u001b[0;34m\u001b[0m\u001b[0;34m\u001b[0m\u001b[0m\n\u001b[0m",
            "\u001b[0;31mNameError\u001b[0m: name 'data' is not defined"
          ]
        }
      ]
    }
  ]
}