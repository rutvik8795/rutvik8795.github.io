{
  "nbformat": 4,
  "nbformat_minor": 0,
  "metadata": {
    "colab": {
      "name": "Copy of Comparing_Couples_DSF_Project.ipynb",
      "provenance": [],
      "collapsed_sections": []
    },
    "kernelspec": {
      "name": "python3",
      "display_name": "Python 3"
    },
    "accelerator": "GPU"
  },
  "cells": [
    {
      "cell_type": "code",
      "metadata": {
        "id": "qq5U0srooeMs",
        "colab_type": "code",
        "outputId": "88713019-f1bb-4038-cce0-beaa4c520e44",
        "colab": {
          "base_uri": "https://localhost:8080/",
          "height": 104
        }
      },
      "source": [
        "''''\n",
        "Author : Rutvik Parekh\n",
        "Objective: Extracting divorce rates for couples with same and different political party affiliations \n",
        "\n",
        "\n",
        "'''\n",
        "\n",
        "\n",
        "# Take the data from the 20160930 election month and store it in a dataframe.\n",
        "\n",
        "import pandas as pd\n",
        "import pdb\n",
        "import os\n",
        "from google.colab import drive\n",
        "\n",
        "from datetime import datetime\n",
        "drive.mount('/content/drive')\n",
        "\n",
        "\n",
        "#Read all files and merge into 1 ( All counties)\n",
        "\n",
        "dataframes = []\n",
        "\n",
        "counter = 0\n",
        "total = len(os.listdir('/content/drive/My Drive/5Counties_2016')) \n",
        "for filename in os.listdir('/content/drive/My Drive/5Counties_2016'):\n",
        "  data = pd.read_csv('/content/drive/My Drive/5Counties_2016/'+filename, sep=\"\\t\", header=None,low_memory=False)     \n",
        "  data.columns = [\"County Code\",\"Voter ID\",\"Name Last\",\"Name Suffix\",\"Name First\",\"Name Middle\",\"Requested public records exemption\",\"Residence Address Line 1\",\"Residence Address Line 2\",\"Residence City (USPS)\",\"Residence State\",\"Residence Zipcode\",\"Mailing Address Line 1\",\"Mailing Address Line 2\",\"Mailing Address Line 3\",\"Mailing City\",\"Mailing State\",\"Mailing Zipcode\t\",\"Mailing Country\",\"Gender\",\"Race\",\"Birth Date\",\"Registration Date\",\"Party Affiliation\",\"Precinct\",\"Precinct Group\",\"Precinct Split\",\"Precinct Suffix\",\"Voter Status\",\"Congressional District\",\"House District\",\"Senate District\",\"County Commission District\",\"School Board District\",\"Daytime Area Code\",\"Daytime Phone Number\",\"Daytime Phone Extension\",\"Email address\"]\n",
        "  data =  data.loc[:,[\"Voter ID\",\"Name Last\",\"Name First\",\"Name Middle\",\"Residence Address Line 1\",\"Residence Address Line 2\",\"Residence City (USPS)\",\"Residence State\",\"Residence Zipcode\",\"Gender\",\"Race\",\"Birth Date\",\"Registration Date\",\"Party Affiliation\"]]         \n",
        "  data = data.dropna(subset=[\"Voter ID\", \"Name Last\",\"Birth Date\",\"Name First\",\"Residence Address Line 1\",\"Residence Address Line 2\",\"Gender\",\"Party Affiliation\"])      \n",
        "  dataframes.append(data)\n",
        "\n",
        "print(\"Processed {} of {} files\".format(counter,total))\n",
        "print('\\n')\n",
        "\n",
        "new_dataframe = pd.DataFrame()\n",
        "temp_dataframe = pd.DataFrame()\n",
        "\n",
        "#for i,df in enumerate(dataframes) :\n",
        "temp_dataframe = pd.concat(dataframes)\n",
        "temp_dataframe = temp_dataframe[temp_dataframe['Party Affiliation'].isin(['DEM', 'REP'])]\n",
        "print(temp_dataframe.shape)\n"
      ],
      "execution_count": 0,
      "outputs": [
        {
          "output_type": "stream",
          "text": [
            "Drive already mounted at /content/drive; to attempt to forcibly remount, call drive.mount(\"/content/drive\", force_remount=True).\n",
            "Processed 0 of 5 files\n",
            "\n",
            "\n",
            "(543150, 14)\n"
          ],
          "name": "stdout"
        }
      ]
    },
    {
      "cell_type": "code",
      "metadata": {
        "id": "bS1gr-hgqSz6",
        "colab_type": "code",
        "outputId": "5edd9787-1936-412d-8357-4fe1ec1b7b71",
        "colab": {
          "base_uri": "https://localhost:8080/",
          "height": 297
        }
      },
      "source": [
        "# Separate the couples who have same and different party affiliations from 20160930 election data.\n",
        "\n",
        "#print (temp_dataframe.head(5))\n",
        "pd.options.display.max_columns = None\n",
        "#temp=temp_dataframe.sample(n=20000)\n",
        "temp2 = temp_dataframe\n",
        "#temp2=temp_dataframe\n",
        "#print(temp.head(5))\n",
        "#print(temp['Residence Address Line 2'].head(5))\n",
        "temp2['All'] = temp2['Residence Address Line 1'].str.cat(temp2[['Residence Address Line 2']], sep=' - ')\n",
        "#print(temp['All'].head(5))\n",
        "df=temp2.groupby('All')\n",
        "data=pd.DataFrame()\n",
        "\n",
        "df1 = pd.DataFrame()\n",
        "df2 = pd.DataFrame()\n",
        "couples1 = pd.DataFrame(columns=[\"Voter_ID_Male\", \"Name_First_Male\", \"Name_Last_Male\", \"Voter_ID_Female\", \"Name_First_Female\", \"Name_Last_Female\"])\n",
        "couples2 = pd.DataFrame(columns=[\"Voter_ID_Male\", \"Name_First_Male\", \"Name_Last_Male\", \"Voter_ID_Female\", \"Name_First_Female\", \"Name_Last_Female\"])\n",
        "counter = 0\n",
        "print(temp2.shape)\n",
        "for name,group in df:\n",
        "\n",
        "    if counter%30000 == 0 :\n",
        "      print(\"Processed {} of items\".format(counter) )\n",
        "    counter += 1\n",
        "\n",
        "    if group.shape[0]==2 and group[group.Gender == 'F'].shape[0] == 1 and group[group.Gender == 'M'].shape[0] == 1:\n",
        "        group_name=group.groupby('Name Last')\n",
        "        for name1,group1 in group_name:\n",
        "            if group1.shape[0]==2:\n",
        "                birthdate1 = pd.to_datetime(group1.iloc[0]['Birth Date'])\n",
        "                birthdate2 = pd.to_datetime(group1.iloc[1]['Birth Date'])\n",
        "                birthdateDiff = abs(birthdate1 - birthdate2)\n",
        "                #birthdateDiffInt = birthdateDiff.astype(int)\n",
        "                fifteenYears = pd.Timedelta(15, 'Y')\n",
        "                if birthdateDiff < fifteenYears:\n",
        "                  #print(name1)\n",
        "                  #print(group1)\n",
        "                  data=data.append([group])\n",
        "                  if (group1.iloc[0,13] == group1.iloc[1,13]) :\n",
        "                    df1 = df1.append(group)\n",
        "                    couples1AllColumnsMale = pd.DataFrame()\n",
        "                    couples1AllColumnsFemale = pd.DataFrame()\n",
        "                    #display(group1.head())\n",
        "                    #display(group1.head())\n",
        "                    tempCouples1 = pd.DataFrame(columns=[\"Voter_ID_Male\", \"Name_First_Male\", \"Name_Last_Male\"])\n",
        "                    couples1AllColumnsMale = group1[group1.Gender == 'M']\n",
        "                    #display(group1.take([0]))\n",
        "                    #display(couples1AllColumnsFemale.head())\n",
        "                    couples1AllColumnsFemale = group1[group1.Gender == 'F']\n",
        "                    tempCouples1[[\"Voter_ID_Male\", \"Name_First_Male\", \"Name_Last_Male\"]] = couples1AllColumnsMale[['Voter ID', 'Name First', 'Name Last']]\n",
        "                    #tempCouples1[['Voter_ID_Female', 'Name_First_Female', 'Name_Last_Female']] = couples1AllColumnsFemale[['Voter ID', 'Name First', 'Name Last']]\n",
        "                    tempCouples1['Voter_ID_Female'] = couples1AllColumnsFemale.to_numpy()[0][0]\n",
        "                    tempCouples1['Name_First_Female'] = couples1AllColumnsFemale.to_numpy()[0][2]\n",
        "                    tempCouples1[ 'Name_Last_Female'] = couples1AllColumnsFemale.to_numpy()[0][1]\n",
        "                    #display(tempCouples1.head())\n",
        "                    couples1 = couples1.append(tempCouples1)\n",
        "                  else :\n",
        "                    df2 = df2.append(group)\n",
        "                    couples2AllColumnsMale = pd.DataFrame()\n",
        "                    couples2AllColumnsFemale = pd.DataFrame()\n",
        "                    #display(group1.head())\n",
        "                    #display(group1.head())\n",
        "                    tempCouples2 = pd.DataFrame(columns=[\"Voter_ID_Male\", \"Name_First_Male\", \"Name_Last_Male\"])\n",
        "                    couples2AllColumnsMale = group1[group1.Gender == 'M']\n",
        "                    couples2AllColumnsFemale = group1[group1.Gender == 'F']\n",
        "                    tempCouples2[[\"Voter_ID_Male\", \"Name_First_Male\", \"Name_Last_Male\"]] = couples2AllColumnsMale[['Voter ID', 'Name First', 'Name Last']]\n",
        "                    #tempCouples1[['Voter_ID_Female', 'Name_First_Female', 'Name_Last_Female']] = couples1AllColumnsFemale[['Voter ID', 'Name First', 'Name Last']]\n",
        "                    tempCouples2['Voter_ID_Female'] = couples2AllColumnsFemale.to_numpy()[0][0]\n",
        "                    tempCouples2['Name_First_Female'] = couples2AllColumnsFemale.to_numpy()[0][2]\n",
        "                    tempCouples2[ 'Name_Last_Female'] = couples2AllColumnsFemale.to_numpy()[0][1]\n",
        "                    #display(tempCouples1.head())\n",
        "                    couples2 = couples2.append(tempCouples2)\n",
        "print('Processing Complete')\n",
        "\n"
      ],
      "execution_count": 0,
      "outputs": [
        {
          "output_type": "stream",
          "text": [
            "(543150, 15)\n",
            "Processed 0 of items\n"
          ],
          "name": "stdout"
        },
        {
          "output_type": "stream",
          "text": [
            "/usr/local/lib/python3.6/dist-packages/ipykernel_launcher.py:32: FutureWarning: M and Y units are deprecated and will be removed in a future version.\n"
          ],
          "name": "stderr"
        },
        {
          "output_type": "stream",
          "text": [
            "Processed 30000 of items\n",
            "Processed 60000 of items\n",
            "Processed 90000 of items\n",
            "Processed 120000 of items\n",
            "Processed 150000 of items\n",
            "Processed 180000 of items\n",
            "Processed 210000 of items\n",
            "Processed 240000 of items\n",
            "Processed 270000 of items\n",
            "Processed 300000 of items\n",
            "Processed 330000 of items\n",
            "Processing Complete\n"
          ],
          "name": "stdout"
        }
      ]
    },
    {
      "cell_type": "code",
      "metadata": {
        "id": "wnhwGBA9rPRf",
        "colab_type": "code",
        "outputId": "077f51aa-050b-47ac-f844-e159166a50db",
        "colab": {
          "base_uri": "https://localhost:8080/",
          "height": 219
        }
      },
      "source": [
        "print(couples1.shape)\n",
        "display(couples1.head())"
      ],
      "execution_count": 0,
      "outputs": [
        {
          "output_type": "stream",
          "text": [
            "(10228, 6)\n"
          ],
          "name": "stdout"
        },
        {
          "output_type": "display_data",
          "data": {
            "text/html": [
              "<div>\n",
              "<style scoped>\n",
              "    .dataframe tbody tr th:only-of-type {\n",
              "        vertical-align: middle;\n",
              "    }\n",
              "\n",
              "    .dataframe tbody tr th {\n",
              "        vertical-align: top;\n",
              "    }\n",
              "\n",
              "    .dataframe thead th {\n",
              "        text-align: right;\n",
              "    }\n",
              "</style>\n",
              "<table border=\"1\" class=\"dataframe\">\n",
              "  <thead>\n",
              "    <tr style=\"text-align: right;\">\n",
              "      <th></th>\n",
              "      <th>Voter_ID_Male</th>\n",
              "      <th>Name_First_Male</th>\n",
              "      <th>Name_Last_Male</th>\n",
              "      <th>Voter_ID_Female</th>\n",
              "      <th>Name_First_Female</th>\n",
              "      <th>Name_Last_Female</th>\n",
              "    </tr>\n",
              "  </thead>\n",
              "  <tbody>\n",
              "    <tr>\n",
              "      <th>134309</th>\n",
              "      <td>118607508</td>\n",
              "      <td>Craig</td>\n",
              "      <td>Heitzler</td>\n",
              "      <td>NaN</td>\n",
              "      <td>NaN</td>\n",
              "      <td>NaN</td>\n",
              "    </tr>\n",
              "    <tr>\n",
              "      <th>111642</th>\n",
              "      <td>116176198</td>\n",
              "      <td>Cynthia</td>\n",
              "      <td>Blaich</td>\n",
              "      <td>NaN</td>\n",
              "      <td>NaN</td>\n",
              "      <td>NaN</td>\n",
              "    </tr>\n",
              "    <tr>\n",
              "      <th>18451</th>\n",
              "      <td>100412797</td>\n",
              "      <td>Cynthia</td>\n",
              "      <td>Curtis</td>\n",
              "      <td>NaN</td>\n",
              "      <td>NaN</td>\n",
              "      <td>NaN</td>\n",
              "    </tr>\n",
              "    <tr>\n",
              "      <th>65165</th>\n",
              "      <td>100553932</td>\n",
              "      <td>Lou</td>\n",
              "      <td>Liguori</td>\n",
              "      <td>NaN</td>\n",
              "      <td>NaN</td>\n",
              "      <td>NaN</td>\n",
              "    </tr>\n",
              "    <tr>\n",
              "      <th>891</th>\n",
              "      <td>100383315</td>\n",
              "      <td>Christian</td>\n",
              "      <td>Hart</td>\n",
              "      <td>NaN</td>\n",
              "      <td>NaN</td>\n",
              "      <td>NaN</td>\n",
              "    </tr>\n",
              "  </tbody>\n",
              "</table>\n",
              "</div>"
            ],
            "text/plain": [
              "       Voter_ID_Male Name_First_Male Name_Last_Male Voter_ID_Female  \\\n",
              "134309     118607508           Craig       Heitzler             NaN   \n",
              "111642     116176198         Cynthia         Blaich             NaN   \n",
              "18451      100412797         Cynthia         Curtis             NaN   \n",
              "65165      100553932             Lou        Liguori             NaN   \n",
              "891        100383315       Christian           Hart             NaN   \n",
              "\n",
              "       Name_First_Female Name_Last_Female  \n",
              "134309               NaN              NaN  \n",
              "111642               NaN              NaN  \n",
              "18451                NaN              NaN  \n",
              "65165                NaN              NaN  \n",
              "891                  NaN              NaN  "
            ]
          },
          "metadata": {
            "tags": []
          }
        }
      ]
    },
    {
      "cell_type": "code",
      "metadata": {
        "id": "U9cqBkIyr3cG",
        "colab_type": "code",
        "outputId": "bfc35c81-3dda-4f50-c330-737caf9578aa",
        "colab": {
          "base_uri": "https://localhost:8080/",
          "height": 225
        }
      },
      "source": [
        "# Take the data from the 20170630 election month and store it in a dataframe.\n",
        "\n",
        "import pandas as pd\n",
        "import pdb\n",
        "import os\n",
        "from google.colab import drive\n",
        "\n",
        "from datetime import datetime\n",
        "drive.mount('/content/drive')\n",
        "\n",
        "\n",
        "#Read all files and merge into 1 ( All counties)\n",
        "\n",
        "dataframes_2017 = []\n",
        "total_2017 = len(os.listdir('/content/drive/My Drive/5Counties_2017/')) \n",
        "for filename in os.listdir('/content/drive/My Drive/5Counties_2017'):\n",
        "  data_2017 = pd.read_csv('/content/drive/My Drive/5Counties_2017/'+filename, sep=\"\\t\", header=None,low_memory=False)        \n",
        "  data_2017.columns = [\"County Code\",\"Voter ID\",\"Name Last\",\"Name Suffix\",\"Name First\",\"Name Middle\",\"Requested public records exemption\",\"Residence Address Line 1\",\"Residence Address Line 2\",\"Residence City (USPS)\",\"Residence State\",\"Residence Zipcode\",\"Mailing Address Line 1\",\"Mailing Address Line 2\",\"Mailing Address Line 3\",\"Mailing City\",\"Mailing State\",\"Mailing Zipcode\t\",\"Mailing Country\",\"Gender\",\"Race\",\"Birth Date\",\"Registration Date\",\"Party Affiliation\",\"Precinct\",\"Precinct Group\",\"Precinct Split\",\"Precinct Suffix\",\"Voter Status\",\"Congressional District\",\"House District\",\"Senate District\",\"County Commission District\",\"School Board District\",\"Daytime Area Code\",\"Daytime Phone Number\",\"Daytime Phone Extension\",\"Email address\"]\n",
        "  data_2017 =  data_2017.loc[:,[\"Voter ID\",\"Name Last\",\"Name First\",\"Name Middle\",\"Residence Address Line 1\",\"Residence Address Line 2\",\"Residence City (USPS)\",\"Residence State\",\"Residence Zipcode\",\"Gender\",\"Race\",\"Birth Date\",\"Registration Date\",\"Party Affiliation\"]]        \n",
        "  data_2017 = data_2017.dropna(subset=[\"Voter ID\", \"Name Last\",\"Birth Date\",\"Name First\",\"Residence Address Line 1\",\"Residence Address Line 2\",\"Gender\",\"Party Affiliation\"])\n",
        "  dataframes_2017.append(data_2017)\n",
        "  print('\\n')\n",
        "temp_dataframe_2017 = pd.DataFrame()\n",
        "\n",
        "#for i,df in enumerate(dataframes) :\n",
        "temp_dataframe_2017 = pd.concat(dataframes_2017)\n",
        "temp_dataframe_2017 = temp_dataframe_2017[temp_dataframe_2017['Party Affiliation'].isin(['DEM', 'REP'])]\n",
        "print(temp_dataframe_2017.shape)\n"
      ],
      "execution_count": 0,
      "outputs": [
        {
          "output_type": "stream",
          "text": [
            "Drive already mounted at /content/drive; to attempt to forcibly remount, call drive.mount(\"/content/drive\", force_remount=True).\n",
            "\n",
            "\n",
            "\n",
            "\n",
            "\n",
            "\n",
            "\n",
            "\n",
            "\n",
            "\n",
            "(531001, 14)\n"
          ],
          "name": "stdout"
        }
      ]
    },
    {
      "cell_type": "code",
      "metadata": {
        "id": "uuHrtFGutRId",
        "colab_type": "code",
        "outputId": "b2053a37-e185-464a-85fb-44ed7790761d",
        "colab": {
          "base_uri": "https://localhost:8080/",
          "height": 280
        }
      },
      "source": [
        "#print (temp_dataframe.head(5))\n",
        "pd.options.display.max_columns = None\n",
        "#temp=temp_dataframe.sample(n=20000)\n",
        "temp2_2017 = temp_dataframe_2017\n",
        "#pdb.set_trace()\n",
        "#temp2=temp_dataframe\n",
        "#print(temp.head(5))\n",
        "#print(temp['Residence Address Line 2'].head(5))\n",
        "temp2_2017['All'] = temp2_2017['Residence Address Line 1'].str.cat(temp2_2017[['Residence Address Line 2']], sep=' - ')\n",
        "#print(temp['All'].head(5))\n",
        "df_2017=temp2_2017.groupby('All')\n",
        "data_2017=pd.DataFrame()\n",
        "\n",
        "df1_2017 = pd.DataFrame()\n",
        "df2_2017 = pd.DataFrame()\n",
        "couples12017 = pd.DataFrame(columns=['Voter_ID_Male', 'Name_First_Male', 'Name_Last_Male', 'Voter_ID_Female', 'Name_First_Female', 'Name_Last_Female'])\n",
        "couples22017 = pd.DataFrame(columns=['Voter_ID_Male', 'Name_First_Male', 'Name_Last_Male', 'Voter_ID_Female', 'Name_First_Female', 'Name_Last_Female'])\n",
        "counter = 0\n",
        "print(temp2_2017.shape)\n",
        "#pdb.set_trace()\n",
        "for name,group in df_2017:\n",
        "    if counter%30000 == 0 :\n",
        "      print(\"Processed {} of items\".format(counter) )\n",
        "    counter += 1\n",
        "\n",
        "    if group.shape[0]==2 and group[group.Gender == 'F'].shape[0] == 1 and group[group.Gender == 'M'].shape[0] == 1:\n",
        "        #pdb.set_trace()\n",
        "        group_name=group.groupby('Name Last')\n",
        "        for name1,group1 in group_name:\n",
        "            if group1.shape[0]==2:\n",
        "                birthdate1 = pd.to_datetime(group1.iloc[0]['Birth Date'])\n",
        "                birthdate2 = pd.to_datetime(group1.iloc[1]['Birth Date'])\n",
        "                birthdateDiff = abs(birthdate1 - birthdate2)\n",
        "                #birthdateDiffInt = birthdateDiff.astype(int)\n",
        "                fifteenYears = pd.Timedelta(15, 'Y')\n",
        "                if birthdateDiff < fifteenYears:\n",
        "                  data_2017=data_2017.append([group])\n",
        "                  if (group1.iloc[0,13] == group1.iloc[1,13]) :\n",
        "                    df1_2017 = df1_2017.append(group)\n",
        "                    couples12017AllColumnsMale = pd.DataFrame()\n",
        "                    couples12017AllColumnsFemale = pd.DataFrame()\n",
        "                    #display(group1.head())\n",
        "                    #display(group1.head())\n",
        "                    tempCouples12017 = pd.DataFrame(columns=[\"Voter_ID_Male\", \"Name_First_Male\", \"Name_Last_Male\"])\n",
        "                    couples12017AllColumnsMale = group1[group1.Gender == 'M']\n",
        "                    #display(group1.take([0]))\n",
        "                    #display(couples1AllColumnsFemale.head())\n",
        "                    couples12017AllColumnsFemale = group1[group1.Gender == 'F']\n",
        "                    tempCouples12017[[\"Voter_ID_Male\", \"Name_First_Male\", \"Name_Last_Male\"]] = couples12017AllColumnsMale[['Voter ID', 'Name First', 'Name Last']]\n",
        "                    #tempCouples1[['Voter_ID_Female', 'Name_First_Female', 'Name_Last_Female']] = couples1AllColumnsFemale[['Voter ID', 'Name First', 'Name Last']]\n",
        "                    tempCouples12017['Voter_ID_Female'] = couples12017AllColumnsFemale.to_numpy()[0][0]\n",
        "                    tempCouples12017['Name_First_Female'] = couples12017AllColumnsFemale.to_numpy()[0][2]\n",
        "                    tempCouples12017[ 'Name_Last_Female'] = couples12017AllColumnsFemale.to_numpy()[0][1]\n",
        "                    #display(tempCouples1.head())\n",
        "                    couples12017 = couples12017.append(tempCouples12017)\n",
        "                  else :\n",
        "                    df2_2017 = df2_2017.append(group)\n",
        "                    couples22017AllColumnsMale = pd.DataFrame()\n",
        "                    couples22017AllColumnsFemale = pd.DataFrame()\n",
        "                    #display(group1.head())\n",
        "                    #display(group1.head())\n",
        "                    tempCouples22017 = pd.DataFrame(columns=[\"Voter_ID_Male\", \"Name_First_Male\", \"Name_Last_Male\"])\n",
        "                    couples22017AllColumnsMale = group1[group1.Gender == 'M']\n",
        "                    #display(group1.take([0]))\n",
        "                    #display(couples1AllColumnsFemale.head())\n",
        "                    couples22017AllColumnsFemale = group1[group1.Gender == 'F']\n",
        "                    tempCouples22017[[\"Voter_ID_Male\", \"Name_First_Male\", \"Name_Last_Male\"]] = couples22017AllColumnsMale[['Voter ID', 'Name First', 'Name Last']]\n",
        "                    #tempCouples1[['Voter_ID_Female', 'Name_First_Female', 'Name_Last_Female']] = couples1AllColumnsFemale[['Voter ID', 'Name First', 'Name Last']]\n",
        "                    tempCouples22017['Voter_ID_Female'] = couples22017AllColumnsFemale.to_numpy()[0][0]\n",
        "                    tempCouples22017['Name_First_Female'] = couples22017AllColumnsFemale.to_numpy()[0][2]\n",
        "                    tempCouples22017[ 'Name_Last_Female'] = couples22017AllColumnsFemale.to_numpy()[0][1]\n",
        "                    #display(tempCouples1.head())\n",
        "                    couples22017 = couples22017.append(tempCouples22017)\n",
        "                    #pdb.set_trace()"
      ],
      "execution_count": 0,
      "outputs": [
        {
          "output_type": "stream",
          "text": [
            "(531001, 15)\n",
            "Processed 0 of items\n"
          ],
          "name": "stdout"
        },
        {
          "output_type": "stream",
          "text": [
            "/usr/local/lib/python3.6/dist-packages/ipykernel_launcher.py:34: FutureWarning: M and Y units are deprecated and will be removed in a future version.\n"
          ],
          "name": "stderr"
        },
        {
          "output_type": "stream",
          "text": [
            "Processed 30000 of items\n",
            "Processed 60000 of items\n",
            "Processed 90000 of items\n",
            "Processed 120000 of items\n",
            "Processed 150000 of items\n",
            "Processed 180000 of items\n",
            "Processed 210000 of items\n",
            "Processed 240000 of items\n",
            "Processed 270000 of items\n",
            "Processed 300000 of items\n",
            "Processed 330000 of items\n"
          ],
          "name": "stdout"
        }
      ]
    },
    {
      "cell_type": "code",
      "metadata": {
        "id": "jRHWIXxZ1Kxp",
        "colab_type": "code",
        "outputId": "ba49b847-fc91-490e-e75c-cd6395acb81c",
        "colab": {
          "base_uri": "https://localhost:8080/",
          "height": 87
        }
      },
      "source": [
        "print(df1.shape)\n",
        "print(df2.shape)\n",
        "print(df1_2017.shape)\n",
        "print(df2_2017.shape)"
      ],
      "execution_count": 0,
      "outputs": [
        {
          "output_type": "stream",
          "text": [
            "(105810, 15)\n",
            "(13550, 15)\n",
            "(0, 0)\n",
            "(0, 0)\n"
          ],
          "name": "stdout"
        }
      ]
    },
    {
      "cell_type": "code",
      "metadata": {
        "id": "V__hes9478_h",
        "colab_type": "code",
        "outputId": "73a4eeea-32cd-4e43-90e6-45076ad3f9ed",
        "colab": {
          "base_uri": "https://localhost:8080/",
          "height": 731
        }
      },
      "source": [
        "display(couples1.shape)\n",
        "display(couples2.shape)\n",
        "display(couples12017.shape)\n",
        "display(couples22017.shape)\n",
        "\n",
        "display(couples22017.head(20))"
      ],
      "execution_count": 0,
      "outputs": [
        {
          "output_type": "display_data",
          "data": {
            "text/plain": [
              "(9214, 6)"
            ]
          },
          "metadata": {
            "tags": []
          }
        },
        {
          "output_type": "display_data",
          "data": {
            "text/plain": [
              "(1355, 6)"
            ]
          },
          "metadata": {
            "tags": []
          }
        },
        {
          "output_type": "display_data",
          "data": {
            "text/plain": [
              "(9050, 6)"
            ]
          },
          "metadata": {
            "tags": []
          }
        },
        {
          "output_type": "display_data",
          "data": {
            "text/plain": [
              "(1319, 6)"
            ]
          },
          "metadata": {
            "tags": []
          }
        },
        {
          "output_type": "display_data",
          "data": {
            "text/html": [
              "<div>\n",
              "<style scoped>\n",
              "    .dataframe tbody tr th:only-of-type {\n",
              "        vertical-align: middle;\n",
              "    }\n",
              "\n",
              "    .dataframe tbody tr th {\n",
              "        vertical-align: top;\n",
              "    }\n",
              "\n",
              "    .dataframe thead th {\n",
              "        text-align: right;\n",
              "    }\n",
              "</style>\n",
              "<table border=\"1\" class=\"dataframe\">\n",
              "  <thead>\n",
              "    <tr style=\"text-align: right;\">\n",
              "      <th></th>\n",
              "      <th>Voter_ID_Male</th>\n",
              "      <th>Name_First_Male</th>\n",
              "      <th>Name_Last_Male</th>\n",
              "      <th>Voter_ID_Female</th>\n",
              "      <th>Name_First_Female</th>\n",
              "      <th>Name_Last_Female</th>\n",
              "    </tr>\n",
              "  </thead>\n",
              "  <tbody>\n",
              "    <tr>\n",
              "      <th>151292</th>\n",
              "      <td>111702936</td>\n",
              "      <td>Garrett</td>\n",
              "      <td>Mullee</td>\n",
              "      <td>111706826</td>\n",
              "      <td>Nancy</td>\n",
              "      <td>Mullee</td>\n",
              "    </tr>\n",
              "    <tr>\n",
              "      <th>80259</th>\n",
              "      <td>123410555</td>\n",
              "      <td>Andrew</td>\n",
              "      <td>Fischer</td>\n",
              "      <td>123410510</td>\n",
              "      <td>Mary</td>\n",
              "      <td>Fischer</td>\n",
              "    </tr>\n",
              "    <tr>\n",
              "      <th>170192</th>\n",
              "      <td>105403407</td>\n",
              "      <td>Larry</td>\n",
              "      <td>Goodling</td>\n",
              "      <td>105403408</td>\n",
              "      <td>Dorothy</td>\n",
              "      <td>Goodling</td>\n",
              "    </tr>\n",
              "    <tr>\n",
              "      <th>20031</th>\n",
              "      <td>116265108</td>\n",
              "      <td>Patrick</td>\n",
              "      <td>Noyes</td>\n",
              "      <td>106242964</td>\n",
              "      <td>Laura</td>\n",
              "      <td>Noyes</td>\n",
              "    </tr>\n",
              "    <tr>\n",
              "      <th>102471</th>\n",
              "      <td>100415505</td>\n",
              "      <td>Holton</td>\n",
              "      <td>Howell</td>\n",
              "      <td>100411230</td>\n",
              "      <td>Teresa</td>\n",
              "      <td>Howell</td>\n",
              "    </tr>\n",
              "    <tr>\n",
              "      <th>68578</th>\n",
              "      <td>100393946</td>\n",
              "      <td>David</td>\n",
              "      <td>Raulerson</td>\n",
              "      <td>100412036</td>\n",
              "      <td>Linell</td>\n",
              "      <td>Raulerson</td>\n",
              "    </tr>\n",
              "    <tr>\n",
              "      <th>55496</th>\n",
              "      <td>100559324</td>\n",
              "      <td>Chad</td>\n",
              "      <td>Griffin</td>\n",
              "      <td>100535487</td>\n",
              "      <td>Rachel</td>\n",
              "      <td>Griffin</td>\n",
              "    </tr>\n",
              "    <tr>\n",
              "      <th>19509</th>\n",
              "      <td>104755524</td>\n",
              "      <td>John</td>\n",
              "      <td>Brigan</td>\n",
              "      <td>100468048</td>\n",
              "      <td>Maritza</td>\n",
              "      <td>Brigan</td>\n",
              "    </tr>\n",
              "    <tr>\n",
              "      <th>110473</th>\n",
              "      <td>100396917</td>\n",
              "      <td>Peter</td>\n",
              "      <td>Ward</td>\n",
              "      <td>100396923</td>\n",
              "      <td>Susan</td>\n",
              "      <td>Ward</td>\n",
              "    </tr>\n",
              "    <tr>\n",
              "      <th>97177</th>\n",
              "      <td>100412180</td>\n",
              "      <td>William</td>\n",
              "      <td>Pacheco</td>\n",
              "      <td>100412723</td>\n",
              "      <td>Alicia</td>\n",
              "      <td>Pacheco</td>\n",
              "    </tr>\n",
              "    <tr>\n",
              "      <th>14055</th>\n",
              "      <td>112648123</td>\n",
              "      <td>David</td>\n",
              "      <td>Barth</td>\n",
              "      <td>112646860</td>\n",
              "      <td>Denise</td>\n",
              "      <td>Barth</td>\n",
              "    </tr>\n",
              "    <tr>\n",
              "      <th>173652</th>\n",
              "      <td>100442916</td>\n",
              "      <td>Ronald</td>\n",
              "      <td>Carovano</td>\n",
              "      <td>100435289</td>\n",
              "      <td>Susan</td>\n",
              "      <td>Carovano</td>\n",
              "    </tr>\n",
              "    <tr>\n",
              "      <th>94926</th>\n",
              "      <td>100584769</td>\n",
              "      <td>Luis</td>\n",
              "      <td>Ponjuan</td>\n",
              "      <td>100584770</td>\n",
              "      <td>Lurel</td>\n",
              "      <td>Ponjuan</td>\n",
              "    </tr>\n",
              "    <tr>\n",
              "      <th>48497</th>\n",
              "      <td>102827296</td>\n",
              "      <td>Robert</td>\n",
              "      <td>Scharr</td>\n",
              "      <td>114321060</td>\n",
              "      <td>Holly</td>\n",
              "      <td>Scharr</td>\n",
              "    </tr>\n",
              "    <tr>\n",
              "      <th>28132</th>\n",
              "      <td>100825966</td>\n",
              "      <td>Bryan</td>\n",
              "      <td>Smallwood</td>\n",
              "      <td>100549436</td>\n",
              "      <td>Abigail</td>\n",
              "      <td>Smallwood</td>\n",
              "    </tr>\n",
              "    <tr>\n",
              "      <th>67171</th>\n",
              "      <td>100411402</td>\n",
              "      <td>Charles</td>\n",
              "      <td>Allee</td>\n",
              "      <td>100410399</td>\n",
              "      <td>Susan</td>\n",
              "      <td>Allee</td>\n",
              "    </tr>\n",
              "    <tr>\n",
              "      <th>39560</th>\n",
              "      <td>100388727</td>\n",
              "      <td>Gerard</td>\n",
              "      <td>Hale</td>\n",
              "      <td>100385938</td>\n",
              "      <td>Melony</td>\n",
              "      <td>Hale</td>\n",
              "    </tr>\n",
              "    <tr>\n",
              "      <th>133756</th>\n",
              "      <td>100519507</td>\n",
              "      <td>Johnny</td>\n",
              "      <td>Green</td>\n",
              "      <td>100414030</td>\n",
              "      <td>Shirley</td>\n",
              "      <td>Green</td>\n",
              "    </tr>\n",
              "    <tr>\n",
              "      <th>178600</th>\n",
              "      <td>100501031</td>\n",
              "      <td>Matthew</td>\n",
              "      <td>Williams</td>\n",
              "      <td>110039513</td>\n",
              "      <td>Ionna</td>\n",
              "      <td>Williams</td>\n",
              "    </tr>\n",
              "    <tr>\n",
              "      <th>134838</th>\n",
              "      <td>100400487</td>\n",
              "      <td>David</td>\n",
              "      <td>Boutwell</td>\n",
              "      <td>100400488</td>\n",
              "      <td>Sandra</td>\n",
              "      <td>Boutwell</td>\n",
              "    </tr>\n",
              "  </tbody>\n",
              "</table>\n",
              "</div>"
            ],
            "text/plain": [
              "       Voter_ID_Male Name_First_Male Name_Last_Male Voter_ID_Female  \\\n",
              "151292     111702936         Garrett         Mullee       111706826   \n",
              "80259      123410555          Andrew        Fischer       123410510   \n",
              "170192     105403407           Larry       Goodling       105403408   \n",
              "20031      116265108         Patrick          Noyes       106242964   \n",
              "102471     100415505          Holton         Howell       100411230   \n",
              "68578      100393946           David      Raulerson       100412036   \n",
              "55496      100559324            Chad        Griffin       100535487   \n",
              "19509      104755524            John         Brigan       100468048   \n",
              "110473     100396917           Peter           Ward       100396923   \n",
              "97177      100412180         William        Pacheco       100412723   \n",
              "14055      112648123           David          Barth       112646860   \n",
              "173652     100442916          Ronald       Carovano       100435289   \n",
              "94926      100584769            Luis        Ponjuan       100584770   \n",
              "48497      102827296          Robert         Scharr       114321060   \n",
              "28132      100825966           Bryan      Smallwood       100549436   \n",
              "67171      100411402         Charles          Allee       100410399   \n",
              "39560      100388727          Gerard           Hale       100385938   \n",
              "133756     100519507          Johnny          Green       100414030   \n",
              "178600     100501031         Matthew       Williams       110039513   \n",
              "134838     100400487           David       Boutwell       100400488   \n",
              "\n",
              "       Name_First_Female Name_Last_Female  \n",
              "151292             Nancy           Mullee  \n",
              "80259               Mary          Fischer  \n",
              "170192           Dorothy         Goodling  \n",
              "20031              Laura            Noyes  \n",
              "102471            Teresa           Howell  \n",
              "68578             Linell        Raulerson  \n",
              "55496             Rachel          Griffin  \n",
              "19509            Maritza           Brigan  \n",
              "110473             Susan             Ward  \n",
              "97177             Alicia          Pacheco  \n",
              "14055             Denise            Barth  \n",
              "173652             Susan         Carovano  \n",
              "94926              Lurel          Ponjuan  \n",
              "48497              Holly           Scharr  \n",
              "28132            Abigail        Smallwood  \n",
              "67171              Susan            Allee  \n",
              "39560             Melony             Hale  \n",
              "133756           Shirley            Green  \n",
              "178600             Ionna         Williams  \n",
              "134838            Sandra         Boutwell  "
            ]
          },
          "metadata": {
            "tags": []
          }
        }
      ]
    },
    {
      "cell_type": "code",
      "metadata": {
        "id": "o9ogDBoU8Wtf",
        "colab_type": "code",
        "outputId": "c9ea6bce-108e-4b2e-de3f-76b901437bd2",
        "colab": {
          "base_uri": "https://localhost:8080/",
          "height": 326
        }
      },
      "source": [
        "import numpy as np\n",
        "couples_samePPA_merged = pd.merge(couples1, couples12017, on=['Voter_ID_Male','Voter_ID_Female'], how='left', indicator='Exist')\n",
        "#couples_samePPA_merged.drop(['Name_First_Male','Name_Last_Male','Name_First_Female','Name_Last_Female'], inplace=True, axis=1)\n",
        "display(couples_samePPA_merged.head())\n",
        "couples_samePPA_merged[['Exist']] = np.where(couples_samePPA_merged.Exist == 'both', True, False)\n",
        "display(couples_samePPA_merged['Exist'].value_counts())\n",
        "\n",
        "samePPA_valueCounts = couples_samePPA_merged['Exist'].value_counts().tolist()\n",
        "sameDivorceRate = samePPA_valueCounts[1]/(samePPA_valueCounts[0]+samePPA_valueCounts[1])\n",
        "couples_diffPPA_merged = pd.merge(couples2, couples22017, on=['Voter_ID_Male','Voter_ID_Female'], how='left', indicator='Exist')\n",
        "#couples_diffPPA_merged.drop(['Name_First_Male','Name_Last_Male','Name_First_Female','Name_Last_Female'], inplace=True, axis=1)\n",
        "couples_diffPPA_merged['Exist'] = np.where(couples_diffPPA_merged.Exist == 'both', True, False)\n",
        "\n",
        "display(couples_diffPPA_merged['Exist'].value_counts())\n",
        "\n",
        "diffPPA_valueCounts = couples_diffPPA_merged['Exist'].value_counts().tolist()\n",
        "diffDivorceRate = diffPPA_valueCounts[1]/(diffPPA_valueCounts[0]+diffPPA_valueCounts[1])"
      ],
      "execution_count": 0,
      "outputs": [
        {
          "output_type": "display_data",
          "data": {
            "text/html": [
              "<div>\n",
              "<style scoped>\n",
              "    .dataframe tbody tr th:only-of-type {\n",
              "        vertical-align: middle;\n",
              "    }\n",
              "\n",
              "    .dataframe tbody tr th {\n",
              "        vertical-align: top;\n",
              "    }\n",
              "\n",
              "    .dataframe thead th {\n",
              "        text-align: right;\n",
              "    }\n",
              "</style>\n",
              "<table border=\"1\" class=\"dataframe\">\n",
              "  <thead>\n",
              "    <tr style=\"text-align: right;\">\n",
              "      <th></th>\n",
              "      <th>Voter_ID_Male</th>\n",
              "      <th>Name_First_Male_x</th>\n",
              "      <th>Name_Last_Male_x</th>\n",
              "      <th>Voter_ID_Female</th>\n",
              "      <th>Name_First_Female_x</th>\n",
              "      <th>Name_Last_Female_x</th>\n",
              "      <th>Name_First_Male_y</th>\n",
              "      <th>Name_Last_Male_y</th>\n",
              "      <th>Name_First_Female_y</th>\n",
              "      <th>Name_Last_Female_y</th>\n",
              "      <th>Exist</th>\n",
              "    </tr>\n",
              "  </thead>\n",
              "  <tbody>\n",
              "    <tr>\n",
              "      <th>0</th>\n",
              "      <td>118607508</td>\n",
              "      <td>Craig</td>\n",
              "      <td>Heitzler</td>\n",
              "      <td>119437179</td>\n",
              "      <td>Melissa</td>\n",
              "      <td>Heitzler</td>\n",
              "      <td>Craig</td>\n",
              "      <td>Heitzler</td>\n",
              "      <td>Melissa</td>\n",
              "      <td>Heitzler</td>\n",
              "      <td>both</td>\n",
              "    </tr>\n",
              "    <tr>\n",
              "      <th>1</th>\n",
              "      <td>116313828</td>\n",
              "      <td>Michael</td>\n",
              "      <td>Blaich</td>\n",
              "      <td>116176198</td>\n",
              "      <td>Cynthia</td>\n",
              "      <td>Blaich</td>\n",
              "      <td>NaN</td>\n",
              "      <td>NaN</td>\n",
              "      <td>NaN</td>\n",
              "      <td>NaN</td>\n",
              "      <td>left_only</td>\n",
              "    </tr>\n",
              "    <tr>\n",
              "      <th>2</th>\n",
              "      <td>100469337</td>\n",
              "      <td>John</td>\n",
              "      <td>Curtis</td>\n",
              "      <td>100412797</td>\n",
              "      <td>Cynthia</td>\n",
              "      <td>Curtis</td>\n",
              "      <td>John</td>\n",
              "      <td>Curtis</td>\n",
              "      <td>Cynthia</td>\n",
              "      <td>Curtis</td>\n",
              "      <td>both</td>\n",
              "    </tr>\n",
              "    <tr>\n",
              "      <th>3</th>\n",
              "      <td>103749702</td>\n",
              "      <td>Donald</td>\n",
              "      <td>Liguori</td>\n",
              "      <td>100553932</td>\n",
              "      <td>Lou</td>\n",
              "      <td>Liguori</td>\n",
              "      <td>Donald</td>\n",
              "      <td>Liguori</td>\n",
              "      <td>Lou</td>\n",
              "      <td>Liguori</td>\n",
              "      <td>both</td>\n",
              "    </tr>\n",
              "    <tr>\n",
              "      <th>4</th>\n",
              "      <td>100383315</td>\n",
              "      <td>Christian</td>\n",
              "      <td>Hart</td>\n",
              "      <td>100423402</td>\n",
              "      <td>Patricia</td>\n",
              "      <td>Hart</td>\n",
              "      <td>Christian</td>\n",
              "      <td>Hart</td>\n",
              "      <td>Patricia</td>\n",
              "      <td>Hart</td>\n",
              "      <td>both</td>\n",
              "    </tr>\n",
              "  </tbody>\n",
              "</table>\n",
              "</div>"
            ],
            "text/plain": [
              "  Voter_ID_Male Name_First_Male_x Name_Last_Male_x Voter_ID_Female  \\\n",
              "0     118607508             Craig         Heitzler       119437179   \n",
              "1     116313828           Michael           Blaich       116176198   \n",
              "2     100469337              John           Curtis       100412797   \n",
              "3     103749702            Donald          Liguori       100553932   \n",
              "4     100383315         Christian             Hart       100423402   \n",
              "\n",
              "  Name_First_Female_x Name_Last_Female_x Name_First_Male_y Name_Last_Male_y  \\\n",
              "0             Melissa           Heitzler             Craig         Heitzler   \n",
              "1             Cynthia             Blaich               NaN              NaN   \n",
              "2             Cynthia             Curtis              John           Curtis   \n",
              "3                 Lou            Liguori            Donald          Liguori   \n",
              "4            Patricia               Hart         Christian             Hart   \n",
              "\n",
              "  Name_First_Female_y Name_Last_Female_y      Exist  \n",
              "0             Melissa           Heitzler       both  \n",
              "1                 NaN                NaN  left_only  \n",
              "2             Cynthia             Curtis       both  \n",
              "3                 Lou            Liguori       both  \n",
              "4            Patricia               Hart       both  "
            ]
          },
          "metadata": {
            "tags": []
          }
        },
        {
          "output_type": "display_data",
          "data": {
            "text/plain": [
              "True     8276\n",
              "False     938\n",
              "Name: Exist, dtype: int64"
            ]
          },
          "metadata": {
            "tags": []
          }
        },
        {
          "output_type": "display_data",
          "data": {
            "text/plain": [
              "True     1192\n",
              "False     163\n",
              "Name: Exist, dtype: int64"
            ]
          },
          "metadata": {
            "tags": []
          }
        }
      ]
    },
    {
      "cell_type": "code",
      "metadata": {
        "id": "B2dGSFm2ezzM",
        "colab_type": "code",
        "outputId": "33b70bcf-500b-4c38-ad3a-c930e2510daf",
        "colab": {
          "base_uri": "https://localhost:8080/",
          "height": 87
        }
      },
      "source": [
        "print(\"Same political party affiliation divorce rate:\")\n",
        "display(sameDivorceRate*100)\n",
        "print(\"Different political party affiliation divorce rate:\")\n",
        "display(diffDivorceRate*100)"
      ],
      "execution_count": 0,
      "outputs": [
        {
          "output_type": "stream",
          "text": [
            "Same political party affiliation divorce rate:\n"
          ],
          "name": "stdout"
        },
        {
          "output_type": "display_data",
          "data": {
            "text/plain": [
              "10.180160625135663"
            ]
          },
          "metadata": {
            "tags": []
          }
        },
        {
          "output_type": "stream",
          "text": [
            "Different political party affiliation divorce rate:\n"
          ],
          "name": "stdout"
        },
        {
          "output_type": "display_data",
          "data": {
            "text/plain": [
              "12.029520295202952"
            ]
          },
          "metadata": {
            "tags": []
          }
        }
      ]
    }
  ]
}